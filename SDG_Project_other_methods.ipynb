{
  "nbformat": 4,
  "nbformat_minor": 0,
  "metadata": {
    "colab": {
      "provenance": [],
      "authorship_tag": "ABX9TyO3voo1wCRP5XMsim/ZfL7X"
    },
    "kernelspec": {
      "name": "python3",
      "display_name": "Python 3"
    },
    "language_info": {
      "name": "python"
    }
  },
  "cells": [
    {
      "cell_type": "markdown",
      "source": [
        "# 1.Importing Libraries"
      ],
      "metadata": {
        "id": "XIPkNkPHg7Bu"
      }
    },
    {
      "cell_type": "code",
      "source": [
        "# Import necessary libraries\n",
        "import pandas as pd\n",
        "import numpy as np\n",
        "from sklearn.model_selection import train_test_split\n",
        "from sklearn.preprocessing import StandardScaler\n",
        "from sklearn.linear_model import LogisticRegression\n",
        "from sklearn.tree import DecisionTreeClassifier\n",
        "from sklearn.ensemble import GradientBoostingClassifier\n",
        "from sklearn.metrics import accuracy_score, confusion_matrix, classification_report\n",
        "import seaborn as sns\n",
        "import matplotlib.pyplot as plt"
      ],
      "metadata": {
        "id": "lqnHayPxg9Pm"
      },
      "execution_count": 2,
      "outputs": []
    },
    {
      "cell_type": "markdown",
      "source": [
        "#2. Loading the dataset"
      ],
      "metadata": {
        "id": "xigctkHihGnt"
      }
    },
    {
      "cell_type": "code",
      "source": [
        "#loading the dataset\n",
        "df = pd.read_csv('diabetes_dataset.csv')\n",
        "\n",
        "#Check first few rows\n",
        "print(df.head())"
      ],
      "metadata": {
        "colab": {
          "base_uri": "https://localhost:8080/"
        },
        "id": "hgxvRJWxhRO1",
        "outputId": "d225957a-6880-42cf-baa6-76caab4c06bc"
      },
      "execution_count": 4,
      "outputs": [
        {
          "output_type": "stream",
          "name": "stdout",
          "text": [
            "   AGE Gender   FPG  HbA1c  Nocturia  Polyuria  Weight_loss  Vomiting  Nausea  \\\n",
            "0   52      F   7.0    6.7      True      True         True     False   False   \n",
            "1   57      M  10.8    8.0     False     False        False     False   False   \n",
            "2   56      F   3.6    5.0     False     False        False     False   False   \n",
            "3   32      F   7.5    6.8     False     False        False     False   False   \n",
            "4   51      M   5.7    6.2     False     False        False     False   False   \n",
            "\n",
            "   Polydipsia  Polyphagia  Headache   BMI   Outcome  \n",
            "0       False       False     False  31.0  positive  \n",
            "1       False       False     False  32.0  positive  \n",
            "2       False       False     False  23.0  negative  \n",
            "3       False       False     False  31.0  positive  \n",
            "4       False       False     False  20.0  negative  \n"
          ]
        }
      ]
    },
    {
      "cell_type": "markdown",
      "source": [
        "#3. Checking and Handling the Missing Values\n"
      ],
      "metadata": {
        "id": "FWTF0Kpfhedd"
      }
    },
    {
      "cell_type": "code",
      "source": [
        "#Check for missing values\n",
        "print(df.isnull().sum())\n",
        "print(\"Missing Values in the dataset?\")\n",
        "print(df.isnull().values.any())\n",
        "\n",
        "#Replacing the missing values\n",
        "df['Gender'].fillna(df['Gender'].mode()[0], inplace=True)\n",
        "df['BMI'].fillna(df['BMI'].mean(), inplace=True)\n",
        "\n",
        "#Checking first few rows\n",
        "print(df.head())\n"
      ],
      "metadata": {
        "colab": {
          "base_uri": "https://localhost:8080/"
        },
        "id": "uTxNSvLjhj1t",
        "outputId": "3f213e20-43c7-45c5-f7b7-a57382bb7707"
      },
      "execution_count": 6,
      "outputs": [
        {
          "output_type": "stream",
          "name": "stdout",
          "text": [
            "AGE            0\n",
            "Gender         0\n",
            "FPG            0\n",
            "HbA1c          0\n",
            "Nocturia       0\n",
            "Polyuria       0\n",
            "Weight_loss    0\n",
            "Vomiting       0\n",
            "Nausea         0\n",
            "Polydipsia     0\n",
            "Polyphagia     0\n",
            "Headache       0\n",
            "BMI            0\n",
            "Outcome        0\n",
            "dtype: int64\n",
            "Missing Values in the dataset?\n",
            "False\n",
            "   AGE Gender   FPG  HbA1c  Nocturia  Polyuria  Weight_loss  Vomiting  Nausea  \\\n",
            "0   52      F   7.0    6.7      True      True         True     False   False   \n",
            "1   57      M  10.8    8.0     False     False        False     False   False   \n",
            "2   56      F   3.6    5.0     False     False        False     False   False   \n",
            "3   32      F   7.5    6.8     False     False        False     False   False   \n",
            "4   51      M   5.7    6.2     False     False        False     False   False   \n",
            "\n",
            "   Polydipsia  Polyphagia  Headache   BMI   Outcome  \n",
            "0       False       False     False  31.0  positive  \n",
            "1       False       False     False  32.0  positive  \n",
            "2       False       False     False  23.0  negative  \n",
            "3       False       False     False  31.0  positive  \n",
            "4       False       False     False  20.0  negative  \n"
          ]
        },
        {
          "output_type": "stream",
          "name": "stderr",
          "text": [
            "<ipython-input-6-6d0c4442adc2>:8: FutureWarning: A value is trying to be set on a copy of a DataFrame or Series through chained assignment using an inplace method.\n",
            "The behavior will change in pandas 3.0. This inplace method will never work because the intermediate object on which we are setting values always behaves as a copy.\n",
            "\n",
            "For example, when doing 'df[col].method(value, inplace=True)', try using 'df.method({col: value}, inplace=True)' or df[col] = df[col].method(value) instead, to perform the operation inplace on the original object.\n",
            "\n",
            "\n",
            "  df['BMI'].fillna(df['BMI'].mean(), inplace=True)\n"
          ]
        }
      ]
    },
    {
      "cell_type": "markdown",
      "source": [
        "#3. Label Encoding"
      ],
      "metadata": {
        "id": "s73BX54Po_uA"
      }
    },
    {
      "cell_type": "code",
      "source": [
        "#Check for non-numeric columns\n",
        "non_numeric_columns = df.select_dtypes(include=['object']).columns\n",
        "print(non_numeric_columns)\n",
        "\n",
        "#Label encoding the Gender column\n",
        "from sklearn.preprocessing import LabelEncoder\n",
        "le = LabelEncoder()\n",
        "df['Gender'] = le.fit_transform(df['Gender'])"
      ],
      "metadata": {
        "colab": {
          "base_uri": "https://localhost:8080/"
        },
        "id": "QMkgFmV0pnAw",
        "outputId": "48460c66-9496-4b89-ac11-436ef887731e"
      },
      "execution_count": 7,
      "outputs": [
        {
          "output_type": "stream",
          "name": "stdout",
          "text": [
            "Index(['Gender', 'Outcome'], dtype='object')\n"
          ]
        }
      ]
    },
    {
      "cell_type": "markdown",
      "source": [
        "#4. Splitting data into features and target"
      ],
      "metadata": {
        "id": "W28eqTKxtk61"
      }
    },
    {
      "cell_type": "code",
      "source": [
        "#Define features (x) and target (y)\n",
        "x = df.drop('Outcome', axis=1)\n",
        "y = df['Outcome']"
      ],
      "metadata": {
        "id": "etJdf5Ilt-LN"
      },
      "execution_count": 8,
      "outputs": []
    },
    {
      "cell_type": "markdown",
      "source": [
        "#5. Splitting data into training and testing sets"
      ],
      "metadata": {
        "id": "Z465CG0EuKgc"
      }
    },
    {
      "cell_type": "code",
      "source": [
        "# Split the data into training and testing sets (80% training, 20% testing)\n",
        "x_train, x_test, y_train, y_test = train_test_split(x, y, test_size=0.2, random_state=42)\n",
        "\n",
        "#printing the data shape\n",
        "print(\"Training Data Shape:\", x_train.shape, y_train.shape)\n",
        "print(\"Testing Data Shape:\", x_test.shape, y_test.shape)"
      ],
      "metadata": {
        "colab": {
          "base_uri": "https://localhost:8080/"
        },
        "id": "iQqanpGQuUhM",
        "outputId": "879b085e-9a90-403a-e6f1-e89b0a1af88e"
      },
      "execution_count": 9,
      "outputs": [
        {
          "output_type": "stream",
          "name": "stdout",
          "text": [
            "Training Data Shape: (2732, 13) (2732,)\n",
            "Testing Data Shape: (683, 13) (683,)\n"
          ]
        }
      ]
    },
    {
      "cell_type": "markdown",
      "source": [
        "#6. Data Scaling"
      ],
      "metadata": {
        "id": "uybv4_JPubuu"
      }
    },
    {
      "cell_type": "code",
      "source": [
        "#Standardizing the data\n",
        "scaler = StandardScaler()\n",
        "x_train_scaled = scaler.fit_transform(x_train)\n",
        "x_test_scaled = scaler.transform(x_test)"
      ],
      "metadata": {
        "id": "n30FWK-Lud30"
      },
      "execution_count": 10,
      "outputs": []
    },
    {
      "cell_type": "markdown",
      "source": [
        "#7. Training the Model\n",
        "- Using Decision Tree\n",
        "- Using Logistic Regression\n",
        "- Using Gradient Boosting"
      ],
      "metadata": {
        "id": "AlZhyxAguhh8"
      }
    },
    {
      "cell_type": "code",
      "source": [
        "#Logistic Regression\n",
        "# Train Logistic Regression\n",
        "logreg = LogisticRegression()\n",
        "logreg.fit(x_train_scaled, y_train)\n",
        "\n",
        "# Predict on test data\n",
        "y_pred_logreg = logreg.predict(x_test_scaled)\n",
        "\n",
        "# Evaluate Logistic Regression\n",
        "print(\"Logistic Regression Accuracy:\", accuracy_score(y_test, y_pred_logreg))\n",
        "print(\"Logistic Regression Classification Report:\\n\", classification_report(y_test, y_pred_logreg))\n",
        "\n",
        "#Confusion Matrix\n",
        "cm = confusion_matrix(y_test, y_pred_logreg)\n",
        "sns.heatmap(cm, annot=True, fmt='d', cmap='Blues')\n",
        "plt.title('Confusion Matrix')\n",
        "plt.xlabel('Predicted')\n",
        "plt.ylabel('True')\n",
        "plt.show()\n",
        "\n",
        "# Train Decision Tree\n",
        "dt = DecisionTreeClassifier(random_state=42)\n",
        "dt.fit(x_train, y_train)\n",
        "\n",
        "# Predict on test data\n",
        "y_pred_dt = dt.predict(x_test)\n",
        "\n",
        "# Evaluate Decision Tree\n",
        "print(\"Decision Tree Accuracy:\", accuracy_score(y_test, y_pred_dt))\n",
        "print(\"Decision Tree Classification Report:\\n\", classification_report(y_test, y_pred_dt))\n",
        "\n",
        "#Confusion Matrix\n",
        "cm = confusion_matrix(y_test, y_pred_dt)\n",
        "sns.heatmap(cm, annot=True, fmt='d', cmap='Blues')\n",
        "plt.title('Confusion Matrix')\n",
        "plt.xlabel('Predicted')\n",
        "plt.ylabel('True')\n",
        "plt.show()\n",
        "\n",
        "# Train Gradient Boosting\n",
        "gb = GradientBoostingClassifier(random_state=42)\n",
        "gb.fit(x_train, y_train)\n",
        "\n",
        "# Predict on test data\n",
        "y_pred_gb = gb.predict(x_test)\n",
        "\n",
        "# Evaluate Gradient Boosting\n",
        "print(\"Gradient Boosting Accuracy:\", accuracy_score(y_test, y_pred_gb))\n",
        "print(\"Gradient Boosting Classification Report:\\n\", classification_report(y_test, y_pred_gb))\n",
        "\n",
        "#Confusion Matrix\n",
        "cm = confusion_matrix(y_test, y_pred_gb)\n",
        "sns.heatmap(cm, annot=True, fmt='d', cmap='Blues')\n",
        "plt.title('Confusion Matrix')\n",
        "plt.xlabel('Predicted')\n",
        "plt.ylabel('True')\n",
        "plt.show()"
      ],
      "metadata": {
        "colab": {
          "base_uri": "https://localhost:8080/",
          "height": 1000
        },
        "id": "epSY0fcPulN8",
        "outputId": "9e4734fd-b950-4b2f-b6a4-f9de2c8dbe6d"
      },
      "execution_count": 13,
      "outputs": [
        {
          "output_type": "stream",
          "name": "stdout",
          "text": [
            "Logistic Regression Accuracy: 0.9941434846266471\n",
            "Logistic Regression Classification Report:\n",
            "               precision    recall  f1-score   support\n",
            "\n",
            "    negative       1.00      0.98      0.99       226\n",
            "    positive       0.99      1.00      1.00       457\n",
            "\n",
            "    accuracy                           0.99       683\n",
            "   macro avg       1.00      0.99      0.99       683\n",
            "weighted avg       0.99      0.99      0.99       683\n",
            "\n"
          ]
        },
        {
          "output_type": "display_data",
          "data": {
            "text/plain": [
              "<Figure size 640x480 with 2 Axes>"
            ],
            "image/png": "[encoded data removed]"
          },
          "metadata": {}
        },
        {
          "output_type": "stream",
          "name": "stdout",
          "text": [
            "Decision Tree Accuracy: 0.9882869692532943\n",
            "Decision Tree Classification Report:\n",
            "               precision    recall  f1-score   support\n",
            "\n",
            "    negative       0.99      0.97      0.98       226\n",
            "    positive       0.99      1.00      0.99       457\n",
            "\n",
            "    accuracy                           0.99       683\n",
            "   macro avg       0.99      0.98      0.99       683\n",
            "weighted avg       0.99      0.99      0.99       683\n",
            "\n"
          ]
        },
        {
          "output_type": "display_data",
          "data": {
            "text/plain": [
              "<Figure size 640x480 with 2 Axes>"
            ],
            "image/png": "[encoded data removed]"
          },
          "metadata": {}
        },
        {
          "output_type": "stream",
          "name": "stdout",
          "text": [
            "Gradient Boosting Accuracy: 0.9941434846266471\n",
            "Gradient Boosting Classification Report:\n",
            "               precision    recall  f1-score   support\n",
            "\n",
            "    negative       1.00      0.98      0.99       226\n",
            "    positive       0.99      1.00      1.00       457\n",
            "\n",
            "    accuracy                           0.99       683\n",
            "   macro avg       1.00      0.99      0.99       683\n",
            "weighted avg       0.99      0.99      0.99       683\n",
            "\n"
          ]
        },
        {
          "output_type": "display_data",
          "data": {
            "text/plain": [
              "<Figure size 640x480 with 2 Axes>"
            ],
            "image/png": "[encoded data removed]"
          },
          "metadata": {}
        }
      ]
    },
    {
      "cell_type": "markdown",
      "source": [
        "**Report:** Decision Tree, Random Forest and Gradient Boosting have similar results"
      ],
      "metadata": {
        "id": "0abglH60wfyj"
      }
    }
  ]
}