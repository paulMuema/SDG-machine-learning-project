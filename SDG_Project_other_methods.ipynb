{
  "nbformat": 4,
  "nbformat_minor": 0,
  "metadata": {
    "colab": {
      "provenance": [],
      "authorship_tag": "ABX9TyN2b2PR5WZMXa+TYA8Zll6c"
    },
    "kernelspec": {
      "name": "python3",
      "display_name": "Python 3"
    },
    "language_info": {
      "name": "python"
    }
  },
  "cells": [
    {
      "cell_type": "markdown",
      "source": [
        "# 1.Importing Libraries"
      ],
      "metadata": {
        "id": "XIPkNkPHg7Bu"
      }
    },
    {
      "cell_type": "code",
      "source": [
        "# Import necessary libraries\n",
        "import pandas as pd\n",
        "import numpy as np\n",
        "from sklearn.model_selection import train_test_split\n",
        "from sklearn.preprocessing import StandardScaler\n",
        "from sklearn.linear_model import LogisticRegression\n",
        "from sklearn.tree import DecisionTreeClassifier\n",
        "from sklearn.ensemble import GradientBoostingClassifier\n",
        "from sklearn.metrics import accuracy_score, confusion_matrix, classification_report\n",
        "import seaborn as sns\n",
        "import matplotlib.pyplot as plt"
      ],
      "metadata": {
        "id": "lqnHayPxg9Pm"
      },
      "execution_count": 5,
      "outputs": []
    },
    {
      "cell_type": "markdown",
      "source": [
        "#2. Loading the dataset"
      ],
      "metadata": {
        "id": "xigctkHihGnt"
      }
    },
    {
      "cell_type": "code",
      "source": [
        "#loading the dataset\n",
        "df = pd.read_csv('diabetes_dataset.csv')\n",
        "\n",
        "#Check first few rows\n",
        "print(df.head())"
      ],
      "metadata": {
        "colab": {
          "base_uri": "https://localhost:8080/"
        },
        "id": "hgxvRJWxhRO1",
        "outputId": "1b10886d-005b-4d03-bd8f-1d730b69167b"
      },
      "execution_count": 6,
      "outputs": [
        {
          "output_type": "stream",
          "name": "stdout",
          "text": [
            "   AGE Gender   FPG  HbA1c  Nocturia  Polyuria  Weight_loss  Vomiting  Nausea  \\\n",
            "0   52      F   7.0    6.7      True      True         True     False   False   \n",
            "1   57      M  10.8    8.0     False     False        False     False   False   \n",
            "2   56      F   3.6    5.0     False     False        False     False   False   \n",
            "3   32      F   7.5    6.8     False     False        False     False   False   \n",
            "4   51      M   5.7    6.2     False     False        False     False   False   \n",
            "\n",
            "   Polydipsia  Polyphagia  Headache   BMI   Outcome  \n",
            "0       False       False     False  31.0  positive  \n",
            "1       False       False     False  32.0  positive  \n",
            "2       False       False     False  23.0  negative  \n",
            "3       False       False     False  31.0  positive  \n",
            "4       False       False     False  20.0  negative  \n"
          ]
        }
      ]
    },
    {
      "cell_type": "markdown",
      "source": [
        "#3. Checking and Handling the Missing Values\n"
      ],
      "metadata": {
        "id": "FWTF0Kpfhedd"
      }
    },
    {
      "cell_type": "code",
      "source": [
        "#Check for missing values\n",
        "print(df.isnull().sum())\n",
        "print(\"Missing Values in the dataset?\")\n",
        "print(df.isnull().values.any())\n",
        "\n",
        "#Replacing the missing values\n",
        "df['Gender'].fillna(df['Gender'].mode()[0], inplace=True)\n",
        "df['BMI'].fillna(df['BMI'].mean(), inplace=True)\n",
        "\n",
        "#Checking first few rows\n",
        "print(df.head())\n"
      ],
      "metadata": {
        "colab": {
          "base_uri": "https://localhost:8080/"
        },
        "id": "uTxNSvLjhj1t",
        "outputId": "f0cc1d75-c500-4aac-b984-79da91c0a0ca"
      },
      "execution_count": 9,
      "outputs": [
        {
          "output_type": "stream",
          "name": "stdout",
          "text": [
            "AGE            0\n",
            "Gender         0\n",
            "FPG            0\n",
            "HbA1c          0\n",
            "Nocturia       0\n",
            "Polyuria       0\n",
            "Weight_loss    0\n",
            "Vomiting       0\n",
            "Nausea         0\n",
            "Polydipsia     0\n",
            "Polyphagia     0\n",
            "Headache       0\n",
            "BMI            0\n",
            "Outcome        0\n",
            "dtype: int64\n",
            "Missing Values in the dataset?\n",
            "False\n",
            "   AGE Gender   FPG  HbA1c  Nocturia  Polyuria  Weight_loss  Vomiting  Nausea  \\\n",
            "0   52      F   7.0    6.7      True      True         True     False   False   \n",
            "1   57      M  10.8    8.0     False     False        False     False   False   \n",
            "2   56      F   3.6    5.0     False     False        False     False   False   \n",
            "3   32      F   7.5    6.8     False     False        False     False   False   \n",
            "4   51      M   5.7    6.2     False     False        False     False   False   \n",
            "\n",
            "   Polydipsia  Polyphagia  Headache   BMI   Outcome  \n",
            "0       False       False     False  31.0  positive  \n",
            "1       False       False     False  32.0  positive  \n",
            "2       False       False     False  23.0  negative  \n",
            "3       False       False     False  31.0  positive  \n",
            "4       False       False     False  20.0  negative  \n"
          ]
        },
        {
          "output_type": "stream",
          "name": "stderr",
          "text": [
            "<ipython-input-9-6d0c4442adc2>:8: FutureWarning: A value is trying to be set on a copy of a DataFrame or Series through chained assignment using an inplace method.\n",
            "The behavior will change in pandas 3.0. This inplace method will never work because the intermediate object on which we are setting values always behaves as a copy.\n",
            "\n",
            "For example, when doing 'df[col].method(value, inplace=True)', try using 'df.method({col: value}, inplace=True)' or df[col] = df[col].method(value) instead, to perform the operation inplace on the original object.\n",
            "\n",
            "\n",
            "  df['BMI'].fillna(df['BMI'].mean(), inplace=True)\n"
          ]
        }
      ]
    },
    {
      "cell_type": "markdown",
      "source": [
        "#3. Label Encoding"
      ],
      "metadata": {
        "id": "s73BX54Po_uA"
      }
    },
    {
      "cell_type": "code",
      "source": [
        "#Check for non-numeric columns\n",
        "non_numeric_columns = df.select_dtypes(include=['object']).columns\n",
        "print(non_numeric_columns)\n",
        "\n",
        "#Label encoding the Gender column\n",
        "from sklearn.preprocessing import LabelEncoder\n",
        "le = LabelEncoder()\n",
        "df['Gender'] = le.fit_transform(df['Gender'])"
      ],
      "metadata": {
        "colab": {
          "base_uri": "https://localhost:8080/"
        },
        "id": "QMkgFmV0pnAw",
        "outputId": "7e8ac120-390d-453d-b662-8089e2f6a532"
      },
      "execution_count": 11,
      "outputs": [
        {
          "output_type": "stream",
          "name": "stdout",
          "text": [
            "Index(['Outcome'], dtype='object')\n"
          ]
        }
      ]
    },
    {
      "cell_type": "markdown",
      "source": [
        "#4. Splitting data into features and target"
      ],
      "metadata": {
        "id": "W28eqTKxtk61"
      }
    },
    {
      "cell_type": "code",
      "source": [
        "#Define features (x) and target (y)\n",
        "x = df.drop('Outcome', axis=1)\n",
        "y = df['Outcome']"
      ],
      "metadata": {
        "id": "etJdf5Ilt-LN"
      },
      "execution_count": 13,
      "outputs": []
    },
    {
      "cell_type": "markdown",
      "source": [
        "#5. Splitting data into training and testing sets"
      ],
      "metadata": {
        "id": "Z465CG0EuKgc"
      }
    },
    {
      "cell_type": "code",
      "source": [
        "# Split the data into training and testing sets (80% training, 20% testing)\n",
        "x_train, x_test, y_train, y_test = train_test_split(x, y, test_size=0.2, random_state=42)\n",
        "\n",
        "#printing the data shape\n",
        "print(\"Training Data Shape:\", x_train.shape, y_train.shape)\n",
        "print(\"Testing Data Shape:\", x_test.shape, y_test.shape)"
      ],
      "metadata": {
        "colab": {
          "base_uri": "https://localhost:8080/"
        },
        "id": "iQqanpGQuUhM",
        "outputId": "76bd52b1-d42b-4105-d5cd-0b2147cbe04a"
      },
      "execution_count": 14,
      "outputs": [
        {
          "output_type": "stream",
          "name": "stdout",
          "text": [
            "Training Data Shape: (2732, 13) (2732,)\n",
            "Testing Data Shape: (683, 13) (683,)\n"
          ]
        }
      ]
    },
    {
      "cell_type": "markdown",
      "source": [
        "#6. Data Scaling"
      ],
      "metadata": {
        "id": "uybv4_JPubuu"
      }
    },
    {
      "cell_type": "code",
      "source": [
        "#Standardizing the data\n",
        "scaler = StandardScaler()\n",
        "x_train_scaled = scaler.fit_transform(x_train)\n",
        "x_test_scaled = scaler.transform(x_test)"
      ],
      "metadata": {
        "id": "n30FWK-Lud30"
      },
      "execution_count": 15,
      "outputs": []
    },
    {
      "cell_type": "markdown",
      "source": [
        "#7. Training the Model\n",
        "- Using Decision Tree\n",
        "- Using Logistic Regression\n",
        "- Using Gradient Boosting"
      ],
      "metadata": {
        "id": "AlZhyxAguhh8"
      }
    },
    {
      "cell_type": "code",
      "source": [
        "#Logistic Regression\n",
        "# Train Logistic Regression\n",
        "logreg = LogisticRegression()\n",
        "logreg.fit(x_train_scaled, y_train)\n",
        "\n",
        "# Predict on test data\n",
        "y_pred_logreg = logreg.predict(x_test_scaled)\n",
        "\n",
        "# Evaluate Logistic Regression\n",
        "print(\"Logistic Regression Accuracy:\", accuracy_score(y_test, y_pred_logreg))\n",
        "print(\"Logistic Regression Confusion Matrix:\\n\", confusion_matrix(y_test, y_pred_logreg))\n",
        "print(\"Logistic Regression Classification Report:\\n\", classification_report(y_test, y_pred_logreg))\n",
        "\n",
        "# Train Decision Tree\n",
        "dt = DecisionTreeClassifier(random_state=42)\n",
        "dt.fit(x_train, y_train)\n",
        "\n",
        "# Predict on test data\n",
        "y_pred_dt = dt.predict(x_test)\n",
        "\n",
        "# Evaluate Decision Tree\n",
        "print(\"Decision Tree Accuracy:\", accuracy_score(y_test, y_pred_dt))\n",
        "print(\"Decision Tree Confusion Matrix:\\n\", confusion_matrix(y_test, y_pred_dt))\n",
        "print(\"Decision Tree Classification Report:\\n\", classification_report(y_test, y_pred_dt))\n",
        "\n",
        "# Train Gradient Boosting\n",
        "gb = GradientBoostingClassifier(random_state=42)\n",
        "gb.fit(x_train, y_train)\n",
        "\n",
        "# Predict on test data\n",
        "y_pred_gb = gb.predict(x_test)\n",
        "\n",
        "# Evaluate Gradient Boosting\n",
        "print(\"Gradient Boosting Accuracy:\", accuracy_score(y_test, y_pred_gb))\n",
        "print(\"Gradient Boosting Confusion Matrix:\\n\", confusion_matrix(y_test, y_pred_gb))\n",
        "print(\"Gradient Boosting Classification Report:\\n\", classification_report(y_test, y_pred_gb))"
      ],
      "metadata": {
        "colab": {
          "base_uri": "https://localhost:8080/"
        },
        "id": "epSY0fcPulN8",
        "outputId": "31f91f7b-b564-4bda-bc1f-25b48d135ab5"
      },
      "execution_count": 20,
      "outputs": [
        {
          "output_type": "stream",
          "name": "stdout",
          "text": [
            "Logistic Regression Accuracy: 0.9941434846266471\n",
            "Logistic Regression Confusion Matrix:\n",
            " [[222   4]\n",
            " [  0 457]]\n",
            "Logistic Regression Classification Report:\n",
            "               precision    recall  f1-score   support\n",
            "\n",
            "    negative       1.00      0.98      0.99       226\n",
            "    positive       0.99      1.00      1.00       457\n",
            "\n",
            "    accuracy                           0.99       683\n",
            "   macro avg       1.00      0.99      0.99       683\n",
            "weighted avg       0.99      0.99      0.99       683\n",
            "\n",
            "Decision Tree Accuracy: 0.9882869692532943\n",
            "Decision Tree Confusion Matrix:\n",
            " [[220   6]\n",
            " [  2 455]]\n",
            "Decision Tree Classification Report:\n",
            "               precision    recall  f1-score   support\n",
            "\n",
            "    negative       0.99      0.97      0.98       226\n",
            "    positive       0.99      1.00      0.99       457\n",
            "\n",
            "    accuracy                           0.99       683\n",
            "   macro avg       0.99      0.98      0.99       683\n",
            "weighted avg       0.99      0.99      0.99       683\n",
            "\n",
            "Gradient Boosting Accuracy: 0.9941434846266471\n",
            "Gradient Boosting Confusion Matrix:\n",
            " [[222   4]\n",
            " [  0 457]]\n",
            "Gradient Boosting Classification Report:\n",
            "               precision    recall  f1-score   support\n",
            "\n",
            "    negative       1.00      0.98      0.99       226\n",
            "    positive       0.99      1.00      1.00       457\n",
            "\n",
            "    accuracy                           0.99       683\n",
            "   macro avg       1.00      0.99      0.99       683\n",
            "weighted avg       0.99      0.99      0.99       683\n",
            "\n"
          ]
        }
      ]
    },
    {
      "cell_type": "markdown",
      "source": [
        "**Report:** Decision Tree, Random Forest and Gradient Boosting have similar results"
      ],
      "metadata": {
        "id": "0abglH60wfyj"
      }
    }
  ]
}