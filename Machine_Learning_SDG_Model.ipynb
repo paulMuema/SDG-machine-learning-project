{
  "nbformat": 4,
  "nbformat_minor": 0,
  "metadata": {
    "colab": {
      "provenance": [],
      "authorship_tag": "ABX9TyMb5VHNNxlacjU42bxfuBQ0",
      "include_colab_link": true
    },
    "kernelspec": {
      "name": "python3",
      "display_name": "Python 3"
    },
    "language_info": {
      "name": "python"
    }
  },
  "cells": [
    {
      "cell_type": "markdown",
      "metadata": {
        "id": "view-in-github",
        "colab_type": "text"
      },
      "source": [
        "<a href=\"https://colab.research.google.com/github/paulMuema/SDG-machine-learning-project/blob/main/Machine_Learning_SDG_Model.ipynb\" target=\"_parent\"><img src=\"https://colab.research.google.com/assets/colab-badge.svg\" alt=\"Open In Colab\"/></a>"
      ]
    },
    {
      "cell_type": "markdown",
      "source": [
        "# 1.Importing Libraries and Loading the Dataset"
      ],
      "metadata": {
        "id": "BduyekuysEla"
      }
    },
    {
      "cell_type": "code",
      "source": [
        "import pandas as pd\n",
        "import numpy as np\n",
        "from sklearn.model_selection import train_test_split\n",
        "from sklearn.metrics import accuracy_score, confusion_matrix\n",
        "from sklearn.preprocessing import StandardScaler\n",
        "from tensorflow.keras.models import Sequential\n",
        "from tensorflow.keras.layers import Dense\n",
        "\n",
        "#Loading the dataset\n",
        "diabetes_data = pd.read_csv('diabetes_dataset.csv')\n",
        "\n",
        "#Checking the first few rows\n",
        "print(diabetes_data.head())\n",
        "\n",
        "#Displaying the columns in the dataset\n",
        "print(diabetes_data.columns)\n",
        "\n",
        "#Checking number of rows and columns\n",
        "print(diabetes_data.shape)\n"
      ],
      "metadata": {
        "colab": {
          "base_uri": "https://localhost:8080/"
        },
        "id": "WGXNMb9LsKAu",
        "outputId": "cfff0ff9-407e-4800-e9f1-bac47385d587"
      },
      "execution_count": 10,
      "outputs": [
        {
          "output_type": "stream",
          "name": "stdout",
          "text": [
            "   AGE Gender   FPG  HbA1c  Nocturia  ...  Polydipsia  Polyphagia  Headache   BMI   Outcome\n",
            "0   52      F   7.0    6.7      True  ...       False       False     False  31.0  positive\n",
            "1   57      M  10.8    8.0     False  ...       False       False     False  32.0  positive\n",
            "2   56      F   3.6    5.0     False  ...       False       False     False  23.0  negative\n",
            "3   32      F   7.5    6.8     False  ...       False       False     False  31.0  positive\n",
            "4   51      M   5.7    6.2     False  ...       False       False     False  20.0  negative\n",
            "\n",
            "[5 rows x 14 columns]\n",
            "Index(['AGE', 'Gender', 'FPG', 'HbA1c', 'Nocturia', 'Polyuria', 'Weight_loss',\n",
            "       'Vomiting', 'Nausea', 'Polydipsia', 'Polyphagia', 'Headache', 'BMI',\n",
            "       'Outcome'],\n",
            "      dtype='object')\n",
            "(3415, 14)\n"
          ]
        }
      ]
    },
    {
      "cell_type": "markdown",
      "source": [
        "- 3415 rows and 14 columns\n",
        "- **DataTypes**: Age, Gender, FPG(Fasting Plasma Glucose), HbA1c(Haemoglobin A1c Test), Nocturia, Polyuria, Weight Loss, Vomiting, Nausea, Polydipsia, Polyphagia, Headache, BMI, Outcome"
      ],
      "metadata": {
        "id": "j69oGs1Cydhp"
      }
    },
    {
      "cell_type": "markdown",
      "source": [
        "#2. Checking and Handling the missing values\n",
        "- Missing values at:\n",
        "1. Gender: 1\n",
        "2. BMI: 7"
      ],
      "metadata": {
        "id": "X8IauMdQug2E"
      }
    },
    {
      "cell_type": "code",
      "source": [
        "#Check for missing values\n",
        "print(diabetes_data.isnull().sum())\n",
        "print(\"Missing Values in the dataset?\")\n",
        "print(diabetes_data.isnull().values.any())\n",
        "\n",
        "#Replacing the missing values\n",
        "diabetes_data['Gender'].fillna(diabetes_data['Gender'].mode()[0], inplace=True)\n",
        "diabetes_data['BMI'].fillna(diabetes_data['BMI'].mean(), inplace=True)\n"
      ],
      "metadata": {
        "colab": {
          "base_uri": "https://localhost:8080/"
        },
        "id": "lUdypFxIuq60",
        "outputId": "355c8f62-8dfc-469a-b0aa-a9bd3fb7d5fa"
      },
      "execution_count": 18,
      "outputs": [
        {
          "output_type": "stream",
          "name": "stdout",
          "text": [
            "AGE            0\n",
            "Gender         0\n",
            "FPG            0\n",
            "HbA1c          0\n",
            "Nocturia       0\n",
            "Polyuria       0\n",
            "Weight_loss    0\n",
            "Vomiting       0\n",
            "Nausea         0\n",
            "Polydipsia     0\n",
            "Polyphagia     0\n",
            "Headache       0\n",
            "BMI            0\n",
            "Outcome        0\n",
            "dtype: int64\n",
            "Missing Values in the dataset?\n",
            "False\n"
          ]
        },
        {
          "output_type": "stream",
          "name": "stderr",
          "text": [
            "<ipython-input-18-752cc49487d7>:8: FutureWarning: A value is trying to be set on a copy of a DataFrame or Series through chained assignment using an inplace method.\n",
            "The behavior will change in pandas 3.0. This inplace method will never work because the intermediate object on which we are setting values always behaves as a copy.\n",
            "\n",
            "For example, when doing 'df[col].method(value, inplace=True)', try using 'df.method({col: value}, inplace=True)' or df[col] = df[col].method(value) instead, to perform the operation inplace on the original object.\n",
            "\n",
            "\n",
            "  diabetes_data['BMI'].fillna(diabetes_data['BMI'].mean(), inplace=True)\n"
          ]
        }
      ]
    }
  ]
}